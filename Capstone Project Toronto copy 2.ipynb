{
    "nbformat_minor": 1, 
    "cells": [
        {
            "source": "# Segmenting and Clustering Neighborhoods in Toronto\nWe will scrape information from a Wikipedia page, read that into dataframe, do some K-means clustering and visualize with Folium!\nThe web page is following:\nhttps://en.wikipedia.org/wiki/List_of_postal_codes_of_Canada:_M,\n\n## 1. Scraping postal code information from a web page", 
            "cell_type": "markdown", 
            "metadata": {
                "collapsed": true
            }
        }, 
        {
            "execution_count": 5, 
            "cell_type": "code", 
            "metadata": {}, 
            "outputs": [
                {
                    "output_type": "stream", 
                    "name": "stdout", 
                    "text": "Fetching package metadata .............\nSolving package specifications: .\n\nPackage plan for installation in environment /opt/conda/envs/DSX-Python35:\n\nThe following NEW packages will be INSTALLED:\n\n    geographiclib: 1.49-py_0   conda-forge\n    geopy:         1.17.0-py_0 conda-forge\n\ngeographiclib- 100% |################################| Time: 0:00:00   1.07 MB/s\ngeopy-1.17.0-p 100% |################################| Time: 0:00:00   1.66 MB/s\nFetching package metadata .............\nSolving package specifications: .\n\nPackage plan for installation in environment /opt/conda/envs/DSX-Python35:\n\nThe following NEW packages will be INSTALLED:\n\n    altair:  2.2.2-py35_1 conda-forge\n    branca:  0.3.1-py_0   conda-forge\n    folium:  0.5.0-py_0   conda-forge\n    vincent: 0.4.4-py_1   conda-forge\n\naltair-2.2.2-p 100% |################################| Time: 0:00:00   2.54 MB/s\nbranca-0.3.1-p 100% |################################| Time: 0:00:00  16.35 MB/s\nvincent-0.4.4- 100% |################################| Time: 0:00:00  17.13 MB/s\nfolium-0.5.0-p 100% |################################| Time: 0:00:00  20.13 MB/s\n"
                }
            ], 
            "source": "# Install and import required libraries, as in New Your clustering notebook\nimport numpy as np # library to handle data in a vectorized manner\n\nimport pandas as pd # library for data analsysis\npd.set_option('display.max_columns', None)\npd.set_option('display.max_rows', None)\n\nimport json # library to handle JSON files\n\n!conda install -c conda-forge geopy --yes # uncomment this line if you haven't completed the Foursquare API lab\nfrom geopy.geocoders import Nominatim # convert an address into latitude and longitude values\n\nimport requests # library to handle requests\nfrom pandas.io.json import json_normalize # tranform JSON file into a pandas dataframe\n\n# Matplotlib and associated plotting modules\nimport matplotlib.cm as cm\nimport matplotlib.colors as colors\n\n# import k-means from clustering stage\nfrom sklearn.cluster import KMeans\n\n!conda install -c conda-forge folium=0.5.0 --yes \nimport folium # map rendering library"
        }, 
        {
            "execution_count": 6, 
            "cell_type": "code", 
            "metadata": {}, 
            "outputs": [
                {
                    "output_type": "stream", 
                    "name": "stdout", 
                    "text": "Fetching package metadata .............\nSolving package specifications: .\n\nPackage plan for installation in environment /opt/conda/envs/DSX-Python35:\n\nThe following packages will be UPDATED:\n\n    beautifulsoup4: 4.6.0-py35h442a8c9_1 --> 4.6.3-py35_0 conda-forge\n\nbeautifulsoup4 100% |################################| Time: 0:00:00   1.51 MB/s\n"
                }
            ], 
            "source": "!conda install -c conda-forge beautifulsoup4 --yes \nfrom bs4 import BeautifulSoup"
        }, 
        {
            "execution_count": 7, 
            "cell_type": "code", 
            "metadata": {}, 
            "outputs": [
                {
                    "execution_count": 7, 
                    "metadata": {}, 
                    "data": {
                        "text/plain": "200"
                    }, 
                    "output_type": "execute_result"
                }
            ], 
            "source": "# Get the page and ensure we got it \npage = requests.get('https://en.wikipedia.org/wiki/List_of_postal_codes_of_Canada:_M')\npage.status_code"
        }, 
        {
            "execution_count": 8, 
            "cell_type": "code", 
            "metadata": {}, 
            "outputs": [
                {
                    "execution_count": 8, 
                    "metadata": {}, 
                    "data": {
                        "text/html": "<div>\n<style scoped>\n    .dataframe tbody tr th:only-of-type {\n        vertical-align: middle;\n    }\n\n    .dataframe tbody tr th {\n        vertical-align: top;\n    }\n\n    .dataframe thead th {\n        text-align: right;\n    }\n</style>\n<table border=\"1\" class=\"dataframe\">\n  <thead>\n    <tr style=\"text-align: right;\">\n      <th></th>\n      <th>PostalCode</th>\n      <th>Borough</th>\n      <th>Neighbourhood</th>\n    </tr>\n  </thead>\n  <tbody>\n    <tr>\n      <th>0</th>\n      <td>M3A</td>\n      <td>North York</td>\n      <td>Parkwoods</td>\n    </tr>\n    <tr>\n      <th>1</th>\n      <td>M4A</td>\n      <td>North York</td>\n      <td>Victoria Village</td>\n    </tr>\n    <tr>\n      <th>2</th>\n      <td>M5A</td>\n      <td>Downtown Toronto</td>\n      <td>Harbourfront, Regent Park</td>\n    </tr>\n    <tr>\n      <th>3</th>\n      <td>M6A</td>\n      <td>North York</td>\n      <td>Lawrence Heights, Lawrence Manor</td>\n    </tr>\n    <tr>\n      <th>4</th>\n      <td>M7A</td>\n      <td>Queen's Park</td>\n      <td>Queen's Park</td>\n    </tr>\n    <tr>\n      <th>5</th>\n      <td>M9A</td>\n      <td>Etobicoke</td>\n      <td>Islington Avenue</td>\n    </tr>\n    <tr>\n      <th>6</th>\n      <td>M1B</td>\n      <td>Scarborough</td>\n      <td>Rouge, Malvern</td>\n    </tr>\n    <tr>\n      <th>7</th>\n      <td>M3B</td>\n      <td>North York</td>\n      <td>Don Mills North</td>\n    </tr>\n    <tr>\n      <th>8</th>\n      <td>M4B</td>\n      <td>East York</td>\n      <td>Woodbine Gardens, Parkview Hill</td>\n    </tr>\n    <tr>\n      <th>9</th>\n      <td>M5B</td>\n      <td>Downtown Toronto</td>\n      <td>Ryerson, Garden District</td>\n    </tr>\n    <tr>\n      <th>10</th>\n      <td>M6B</td>\n      <td>North York</td>\n      <td>Glencairn</td>\n    </tr>\n    <tr>\n      <th>11</th>\n      <td>M9B</td>\n      <td>Etobicoke</td>\n      <td>Cloverdale, Islington, Martin Grove, Princess ...</td>\n    </tr>\n    <tr>\n      <th>12</th>\n      <td>M1C</td>\n      <td>Scarborough</td>\n      <td>Highland Creek, Rouge Hill, Port Union</td>\n    </tr>\n    <tr>\n      <th>13</th>\n      <td>M3C</td>\n      <td>North York</td>\n      <td>Flemingdon Park, Don Mills South</td>\n    </tr>\n    <tr>\n      <th>14</th>\n      <td>M4C</td>\n      <td>East York</td>\n      <td>Woodbine Heights</td>\n    </tr>\n  </tbody>\n</table>\n</div>", 
                        "text/plain": "   PostalCode           Borough  \\\n0         M3A        North York   \n1         M4A        North York   \n2         M5A  Downtown Toronto   \n3         M6A        North York   \n4         M7A      Queen's Park   \n5         M9A         Etobicoke   \n6         M1B       Scarborough   \n7         M3B        North York   \n8         M4B         East York   \n9         M5B  Downtown Toronto   \n10        M6B        North York   \n11        M9B         Etobicoke   \n12        M1C       Scarborough   \n13        M3C        North York   \n14        M4C         East York   \n\n                                        Neighbourhood  \n0                                           Parkwoods  \n1                                    Victoria Village  \n2                           Harbourfront, Regent Park  \n3                    Lawrence Heights, Lawrence Manor  \n4                                        Queen's Park  \n5                                    Islington Avenue  \n6                                      Rouge, Malvern  \n7                                     Don Mills North  \n8                     Woodbine Gardens, Parkview Hill  \n9                            Ryerson, Garden District  \n10                                          Glencairn  \n11  Cloverdale, Islington, Martin Grove, Princess ...  \n12             Highland Creek, Rouge Hill, Port Union  \n13                   Flemingdon Park, Don Mills South  \n14                                   Woodbine Heights  "
                    }, 
                    "output_type": "execute_result"
                }
            ], 
            "source": "# define the dataframe columns\ncolumn_names = ['PostalCode', 'Borough', 'Neighbourhood'] \n# instantiate the dataframe\npostal_codes = pd.DataFrame(columns=column_names)\n\nsoup = BeautifulSoup(page.content, 'html.parser')\n\n# First, get the table in question\ntables = soup.findChildren('table')\n# We are interested in the first table only\npost_table = tables[0]\nrows = post_table.findChildren('tr')\n# Skip the first tr (it is the header)\npost_rows = rows[1:]\nfor row in post_rows:\n    # Parse table row cells, stripping whitespace\n    cells = row.findChildren('td')\n    postcode = cells[0].string.strip()\n    borough = cells[1].string.strip()\n    for anchor in cells[1].findChildren('a'):\n        borough = anchor.string.strip()\n    anchorsFound = False\n    for anchor in cells[2].findChildren('a'):\n        neighbourhood = anchor.string.strip()\n        anchorsFound = True\n    if anchorsFound == False:\n        neighbourhood = cells[2].string.strip() \n    if borough != 'Not assigned':\n        if neighbourhood == 'Not assigned':\n            neighbourhood = borough\n            \n        # Filter dataframes based on conditions given\n        sameBorough = postal_codes[(postal_codes.PostalCode == postcode) & (postal_codes.Borough == borough)]\n        if sameBorough.shape[0] > 0:\n            # Already existing (postalcode, borough tuple) => replace existing list of neighbourhoods in a dataframe\n            postal_codes['Neighbourhood'].replace(\n                    to_replace=sameBorough['Neighbourhood'].iloc[0],\n                    value=sameBorough['Neighbourhood'].iloc[0] + ', ' + neighbourhood,\n                    inplace=True\n            )\n        else:\n            # A new (postalcode, borough) tuple => append new dataframe\n            postal_codes = postal_codes.append({'PostalCode': postcode,'Borough': borough,'Neighbourhood': neighbourhood}, ignore_index=True)\npostal_codes.head(15)"
        }, 
        {
            "execution_count": 9, 
            "cell_type": "code", 
            "metadata": {}, 
            "outputs": [
                {
                    "execution_count": 9, 
                    "metadata": {}, 
                    "data": {
                        "text/plain": "(103, 3)"
                    }, 
                    "output_type": "execute_result"
                }
            ], 
            "source": "postal_codes.shape"
        }, 
        {
            "source": "## Getting latitude and longitude of each neighbourhood", 
            "cell_type": "markdown", 
            "metadata": {}
        }, 
        {
            "execution_count": 14, 
            "cell_type": "code", 
            "metadata": {}, 
            "outputs": [
                {
                    "output_type": "stream", 
                    "name": "stdout", 
                    "text": "Fetching package metadata .............\nSolving package specifications: .\n\n# All requested packages already installed.\n# packages in environment at /opt/conda/envs/DSX-Python35:\n#\ngeocoder                  1.38.1                     py_0    conda-forge\n"
                }
            ], 
            "source": "!conda install -c conda-forge geocoder --yes \nimport geocoder"
        }, 
        {
            "execution_count": 36, 
            "cell_type": "code", 
            "metadata": {}, 
            "outputs": [], 
            "source": "# The code was removed by Watson Studio for sharing."
        }, 
        {
            "execution_count": 41, 
            "cell_type": "code", 
            "metadata": {}, 
            "outputs": [
                {
                    "output_type": "stream", 
                    "name": "stdout", 
                    "text": "Trying to find M3A, Toronto, Ontario\nTrying to find M4A, Toronto, Ontario\nTrying to find M5A, Toronto, Ontario\nTrying to find M6A, Toronto, Ontario\nTrying to find M7A, Toronto, Ontario\nTrying to find M9A, Toronto, Ontario\nTrying to find M1B, Toronto, Ontario\nTrying to find M3B, Toronto, Ontario\nTrying to find M4B, Toronto, Ontario\nTrying to find M5B, Toronto, Ontario\nTrying to find M6B, Toronto, Ontario\nTrying to find M9B, Toronto, Ontario\nTrying to find M1C, Toronto, Ontario\nTrying to find M3C, Toronto, Ontario\nTrying to find M4C, Toronto, Ontario\nTrying to find M5C, Toronto, Ontario\nTrying to find M6C, Toronto, Ontario\nTrying to find M9C, Toronto, Ontario\nTrying to find M1E, Toronto, Ontario\nTrying to find M4E, Toronto, Ontario\nTrying to find M5E, Toronto, Ontario\nTrying to find M6E, Toronto, Ontario\nTrying to find M1G, Toronto, Ontario\nTrying to find M4G, Toronto, Ontario\nTrying to find M5G, Toronto, Ontario\nTrying to find M6G, Toronto, Ontario\nTrying to find M1H, Toronto, Ontario\nTrying to find M2H, Toronto, Ontario\nTrying to find M3H, Toronto, Ontario\nTrying to find M4H, Toronto, Ontario\nTrying to find M5H, Toronto, Ontario\nTrying to find M6H, Toronto, Ontario\nTrying to find M1J, Toronto, Ontario\nTrying to find M2J, Toronto, Ontario\nTrying to find M3J, Toronto, Ontario\nTrying to find M4J, Toronto, Ontario\nTrying to find M5J, Toronto, Ontario\nTrying to find M6J, Toronto, Ontario\nTrying to find M1K, Toronto, Ontario\nTrying to find M2K, Toronto, Ontario\nTrying to find M3K, Toronto, Ontario\nTrying to find M4K, Toronto, Ontario\nTrying to find M5K, Toronto, Ontario\nTrying to find M6K, Toronto, Ontario\nTrying to find M1L, Toronto, Ontario\nTrying to find M2L, Toronto, Ontario\nTrying to find M3L, Toronto, Ontario\nTrying to find M4L, Toronto, Ontario\nTrying to find M5L, Toronto, Ontario\nTrying to find M6L, Toronto, Ontario\nTrying to find M9L, Toronto, Ontario\nTrying to find M1M, Toronto, Ontario\nTrying to find M2M, Toronto, Ontario\nTrying to find M3M, Toronto, Ontario\nTrying to find M4M, Toronto, Ontario\nTrying to find M5M, Toronto, Ontario\nTrying to find M6M, Toronto, Ontario\nTrying to find M9M, Toronto, Ontario\nTrying to find M1N, Toronto, Ontario\nTrying to find M2N, Toronto, Ontario\nTrying to find M3N, Toronto, Ontario\nTrying to find M4N, Toronto, Ontario\nTrying to find M5N, Toronto, Ontario\nTrying to find M6N, Toronto, Ontario\nTrying to find M9N, Toronto, Ontario\nTrying to find M1P, Toronto, Ontario\nTrying to find M2P, Toronto, Ontario\nTrying to find M4P, Toronto, Ontario\nTrying to find M5P, Toronto, Ontario\nTrying to find M6P, Toronto, Ontario\nTrying to find M9P, Toronto, Ontario\nTrying to find M1R, Toronto, Ontario\nTrying to find M2R, Toronto, Ontario\nTrying to find M4R, Toronto, Ontario\nTrying to find M5R, Toronto, Ontario\nTrying to find M6R, Toronto, Ontario\nTrying to find M7R, Toronto, Ontario\nTrying to find M9R, Toronto, Ontario\nTrying to find M1S, Toronto, Ontario\nTrying to find M4S, Toronto, Ontario\nTrying to find M5S, Toronto, Ontario\nTrying to find M6S, Toronto, Ontario\nTrying to find M1T, Toronto, Ontario\nTrying to find M4T, Toronto, Ontario\nTrying to find M5T, Toronto, Ontario\nTrying to find M1V, Toronto, Ontario\nTrying to find M4V, Toronto, Ontario\nTrying to find M5V, Toronto, Ontario\nTrying to find M8V, Toronto, Ontario\nTrying to find M9V, Toronto, Ontario\nTrying to find M1W, Toronto, Ontario\nTrying to find M4W, Toronto, Ontario\nTrying to find M5W, Toronto, Ontario\nTrying to find M8W, Toronto, Ontario\nTrying to find M9W, Toronto, Ontario\nTrying to find M1X, Toronto, Ontario\nTrying to find M4X, Toronto, Ontario\nTrying to find M5X, Toronto, Ontario\nTrying to find M8X, Toronto, Ontario\nTrying to find M4Y, Toronto, Ontario\nTrying to find M7Y, Toronto, Ontario\nTrying to find M8Y, Toronto, Ontario\nTrying to find M8Z, Toronto, Ontario\n"
                }, 
                {
                    "execution_count": 41, 
                    "metadata": {}, 
                    "data": {
                        "text/html": "<div>\n<style scoped>\n    .dataframe tbody tr th:only-of-type {\n        vertical-align: middle;\n    }\n\n    .dataframe tbody tr th {\n        vertical-align: top;\n    }\n\n    .dataframe thead th {\n        text-align: right;\n    }\n</style>\n<table border=\"1\" class=\"dataframe\">\n  <thead>\n    <tr style=\"text-align: right;\">\n      <th></th>\n      <th>PostalCode</th>\n      <th>Borough</th>\n      <th>Neighbourhood</th>\n      <th>Latitude</th>\n      <th>Longitude</th>\n    </tr>\n  </thead>\n  <tbody>\n    <tr>\n      <th>0</th>\n      <td>M3A</td>\n      <td>North York</td>\n      <td>Parkwoods</td>\n      <td>43.751255</td>\n      <td>-79.329895</td>\n    </tr>\n    <tr>\n      <th>1</th>\n      <td>M4A</td>\n      <td>North York</td>\n      <td>Victoria Village</td>\n      <td>43.729958</td>\n      <td>-79.314201</td>\n    </tr>\n    <tr>\n      <th>2</th>\n      <td>M5A</td>\n      <td>Downtown Toronto</td>\n      <td>Harbourfront, Regent Park</td>\n      <td>43.655220</td>\n      <td>-79.361969</td>\n    </tr>\n    <tr>\n      <th>3</th>\n      <td>M6A</td>\n      <td>North York</td>\n      <td>Lawrence Heights, Lawrence Manor</td>\n      <td>43.722801</td>\n      <td>-79.450691</td>\n    </tr>\n    <tr>\n      <th>4</th>\n      <td>M7A</td>\n      <td>Queen's Park</td>\n      <td>Queen's Park</td>\n      <td>43.664486</td>\n      <td>-79.393021</td>\n    </tr>\n    <tr>\n      <th>5</th>\n      <td>M9A</td>\n      <td>Etobicoke</td>\n      <td>Islington Avenue</td>\n      <td>43.662743</td>\n      <td>-79.528427</td>\n    </tr>\n    <tr>\n      <th>6</th>\n      <td>M1B</td>\n      <td>Scarborough</td>\n      <td>Rouge, Malvern</td>\n      <td>43.810154</td>\n      <td>-79.194603</td>\n    </tr>\n    <tr>\n      <th>7</th>\n      <td>M3B</td>\n      <td>North York</td>\n      <td>Don Mills North</td>\n      <td>43.749134</td>\n      <td>-79.362007</td>\n    </tr>\n    <tr>\n      <th>8</th>\n      <td>M4B</td>\n      <td>East York</td>\n      <td>Woodbine Gardens, Parkview Hill</td>\n      <td>43.707577</td>\n      <td>-79.310913</td>\n    </tr>\n    <tr>\n      <th>9</th>\n      <td>M5B</td>\n      <td>Downtown Toronto</td>\n      <td>Ryerson, Garden District</td>\n      <td>43.657467</td>\n      <td>-79.377708</td>\n    </tr>\n    <tr>\n      <th>10</th>\n      <td>M6B</td>\n      <td>North York</td>\n      <td>Glencairn</td>\n      <td>43.706573</td>\n      <td>-79.447830</td>\n    </tr>\n    <tr>\n      <th>11</th>\n      <td>M9B</td>\n      <td>Etobicoke</td>\n      <td>Cloverdale, Islington, Martin Grove, Princess ...</td>\n      <td>43.650787</td>\n      <td>-79.550316</td>\n    </tr>\n    <tr>\n      <th>12</th>\n      <td>M1C</td>\n      <td>Scarborough</td>\n      <td>Highland Creek, Rouge Hill, Port Union</td>\n      <td>43.784672</td>\n      <td>-79.158958</td>\n    </tr>\n    <tr>\n      <th>13</th>\n      <td>M3C</td>\n      <td>North York</td>\n      <td>Flemingdon Park, Don Mills South</td>\n      <td>43.725864</td>\n      <td>-79.344620</td>\n    </tr>\n    <tr>\n      <th>14</th>\n      <td>M4C</td>\n      <td>East York</td>\n      <td>Woodbine Heights</td>\n      <td>43.689819</td>\n      <td>-79.310364</td>\n    </tr>\n  </tbody>\n</table>\n</div>", 
                        "text/plain": "   PostalCode           Borough  \\\n0         M3A        North York   \n1         M4A        North York   \n2         M5A  Downtown Toronto   \n3         M6A        North York   \n4         M7A      Queen's Park   \n5         M9A         Etobicoke   \n6         M1B       Scarborough   \n7         M3B        North York   \n8         M4B         East York   \n9         M5B  Downtown Toronto   \n10        M6B        North York   \n11        M9B         Etobicoke   \n12        M1C       Scarborough   \n13        M3C        North York   \n14        M4C         East York   \n\n                                        Neighbourhood   Latitude  Longitude  \n0                                           Parkwoods  43.751255 -79.329895  \n1                                    Victoria Village  43.729958 -79.314201  \n2                           Harbourfront, Regent Park  43.655220 -79.361969  \n3                    Lawrence Heights, Lawrence Manor  43.722801 -79.450691  \n4                                        Queen's Park  43.664486 -79.393021  \n5                                    Islington Avenue  43.662743 -79.528427  \n6                                      Rouge, Malvern  43.810154 -79.194603  \n7                                     Don Mills North  43.749134 -79.362007  \n8                     Woodbine Gardens, Parkview Hill  43.707577 -79.310913  \n9                            Ryerson, Garden District  43.657467 -79.377708  \n10                                          Glencairn  43.706573 -79.447830  \n11  Cloverdale, Islington, Martin Grove, Princess ...  43.650787 -79.550316  \n12             Highland Creek, Rouge Hill, Port Union  43.784672 -79.158958  \n13                   Flemingdon Park, Don Mills South  43.725864 -79.344620  \n14                                   Woodbine Heights  43.689819 -79.310364  "
                    }, 
                    "output_type": "execute_result"
                }
            ], 
            "source": "# A function to return lat and long given postal code\ndef fetchCoordinatesByAreaAndPostalCode(area, postal_code):\n    coords = None\n    n_times = 0\n    # Created a Bing Maps account, the other ones don't seem to work reliably...\n    # loop until you get the coordinates, max 5 times\n    while((coords is None) & (n_times < 5)):\n        print('Trying to find {}, {}'.format(postal_code, area))\n        #g = geocoder.osm('{}, {}'.format(postal_code, area))\n        #coords = g.osm\n        g = geocoder.bing('{}, {}'.format(postal_code, area), key=BING_KEY)\n        coords = g.latlng\n        n_times = n_times + 1\n    if coords != None:\n        # return coords.get('x'), coords.get('y')\n        return coords[0], coords[1]\n    else:\n        return 0.0, 0.0\n\n# Loop through all areas and fetch coordinates by postal code\nlats=[]\nlongs=[]\nfor index, area in postal_codes.iterrows():\n    lat, lon = fetchCoordinatesByAreaAndPostalCode('Toronto, Ontario', area['PostalCode'])\n    lats.append(lat)\n    longs.append(lon)\npostal_codes = postal_codes.assign(Latitude=lats, Longitude=longs)\npostal_codes.head(15)\n"
        }, 
        {
            "execution_count": null, 
            "cell_type": "code", 
            "metadata": {}, 
            "outputs": [], 
            "source": ""
        }
    ], 
    "metadata": {
        "kernelspec": {
            "display_name": "Python 3.5", 
            "name": "python3", 
            "language": "python"
        }
    }, 
    "nbformat": 4
}